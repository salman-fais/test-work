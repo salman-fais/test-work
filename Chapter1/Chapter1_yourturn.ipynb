{
  "cells": [
    {
      "cell_type": "markdown",
      "metadata": {
        "id": "p3TodCDF_08M"
      },
      "source": [
        "# To be completed at the Data Science Workshop and in your own time.\n",
        "\n",
        "These set of examples we will help you get familiar with Jupyter notebooks and useful Python packages and terminology - this is important not only for practice required for the assessements, but also to go through some of the basic concepts that will be needed to understand how to do data science, using Python and Jupyter Notebooks as our tools.\n",
        "\n",
        "Before attempting these examples, please ensure you have read through [Chapter 1 Jupyter Notebook](https://github.com/haleygomez/Data-Science-2025/raw/main/Chapter1/Chapter1.dat) and have completed the Learning Central **Chapter 1 quiz**."
      ]
    },
    {
      "cell_type": "markdown",
      "metadata": {
        "id": "0uiTV-Fq_08N"
      },
      "source": [
        "First we will define some useful packages we want to use in this notebook to answer the following questions:"
      ]
    },
    {
      "cell_type": "code",
      "execution_count": 17,
      "metadata": {
        "id": "RdPe1a0v_08O"
      },
      "outputs": [],
      "source": [
        "# define and import some important things\n",
        "import numpy as np\n",
        "import pylab as plt\n",
        "\n",
        "%matplotlib inline"
      ]
    },
    {
      "cell_type": "markdown",
      "metadata": {
        "id": "_RuSnDaC_08O"
      },
      "source": [
        "***"
      ]
    },
    {
      "cell_type": "markdown",
      "metadata": {
        "id": "36YImZch_08O"
      },
      "source": [
        "\n",
        "# Plotting in Python"
      ]
    },
    {
      "cell_type": "markdown",
      "metadata": {
        "id": "UTtpQC3r_08P"
      },
      "source": [
        "## Question"
      ]
    },
    {
      "cell_type": "markdown",
      "metadata": {
        "id": "s29B2xxZ_08P"
      },
      "source": [
        "A star brightens over time until it explodes as a supernova. Astronomers record the brightness (as a factor of the normal brightness) with days since it started to brighten, recording the following datasets: <br><br>\n",
        "\n",
        "time = [0.,0.08163265,    0.24489796,  0.32653061,  \n",
        "  0.48979592,   0.73469388,  0.81632653,  \n",
        "  0.97959184 ,  1.2244898 ,  1.30612245,  \n",
        "  1.46938776  ,1.71428571,  1.79591837,\n",
        "  1.95918367 ,   2.20408163,  2.28571429,  \n",
        "  2.44897959 ,    2.7755102,\n",
        "  2.93877551 ,  3.18367347 , 3.26530612  ,\n",
        "  3.42857143 , 3.67346939,  3.75510204   , 4.       ]\n",
        "<br><br>\n",
        "\n",
        "brightness = [0.36253211,    1.16748232 ,\n",
        "  1.78775018,  2.01934344 ,   2.70657393 ,\n",
        "  2.57897185,  2.96562829 ,    3.00174824 ,\n",
        "  2.93663326,  2.80591525 ,   2.11027035 ,\n",
        "  1.67940753,  1.64772549 ,  0.3513817  ,\n",
        "  0.33366962,  0.47097419 , -0.39790443,\n",
        " -0.65133529, -1.52086508 , -1.76831912,\n",
        " -2.05865798, -1.55083722 ,-1.90755375 ,\n",
        " -1.74307249, -1.66250842]\n",
        "\n",
        "<br>\n",
        "\n",
        "Day 0 marks the time of the explosion.\n",
        "<br>\n",
        "\n",
        "1. Plot the data. Don't forget to label the axes. Set the colour of the data to be green with a diamond marker. <br><br>\n",
        "\n",
        "2. The brightness values have an estimated error of 10%.  Plot the datapoints with errorbars in $y$.   <br><br>\n",
        "\n",
        "3. Astronomer Rees argues that this data could be fit by the function $y =  Asin(Bx)+C$. Plot this function on top of your data with some guesses at what $A$, $B$ and $C$ are (hint: $C=0.5$ provides a good fit to the data).<br><br>\n",
        "\n",
        "4. Discuss the plot."
      ]
    },
    {
      "cell_type": "markdown",
      "metadata": {
        "id": "YI3pwiCf_08P"
      },
      "source": [
        "### Answer:"
      ]
    },
    {
      "cell_type": "markdown",
      "metadata": {
        "id": "EmRG8L3Y_08P"
      },
      "source": [
        "*Your answer here:*"
      ]
    },
    {
      "cell_type": "code",
      "source": [
        "time = [0.,0.08163265, 0.24489796, 0.32653061,\n",
        "0.48979592, 0.73469388, 0.81632653,\n",
        "0.97959184 , 1.2244898 , 1.30612245,\n",
        "1.46938776 ,1.71428571, 1.79591837, 1.95918367 , 2.20408163, 2.28571429,\n",
        "2.44897959 , 2.7755102, 2.93877551 , 3.18367347 , 3.26530612 , 3.42857143 , 3.67346939, 3.75510204 , 4. ]\n",
        "\n",
        "\n",
        "\n",
        "\n",
        "brightness = [0.36253211, 1.16748232 , 1.78775018, 2.01934344 , 2.70657393 , 2.57897185, 2.96562829 ,\n",
        "              3.00174824 , 2.93663326, 2.80591525 , 2.11027035 , 1.67940753, 1.64772549 , 0.3513817 ,\n",
        "              0.33366962, 0.47097419 , -0.39790443, -0.65133529, -1.52086508 , -1.76831912, -2.05865798,\n",
        "              -1.55083722 ,-1.90755375 , -1.74307249, -1.66250842]\n",
        "\n",
        "\n",
        "\n",
        "def func(x,A,B,C):\n",
        "  x=np.array(x)\n",
        "  y=A*np.sin(B*x)+C\n",
        "  return y\n",
        "\n",
        "y=func(brightness,2.5,1,0.5)\n",
        "\n",
        "plt.subplot(121)\n",
        "plt.plot(time,brightness,c='green',marker='D')\n",
        "plt.xlabel('time',fontsize=16)\n",
        "plt.ylabel('brightness',fontsize=16)\n",
        "plt.title(1)\n",
        "\n",
        "plt.plot(time,y,c='magenta',marker='D')\n",
        "plt.xlabel('time',fontsize=16)\n",
        "plt.ylabel('brightness',fontsize=16)\n",
        "\n",
        "plt.subplot(122)\n",
        "plt.errorbar(time,brightness,yerr=0.1,fmt='o')\n",
        "plt.xlabel('time',fontsize=16)\n",
        "plt.ylabel('brightness',fontsize=16)\n",
        "plt.title(2)\n",
        "\n"
      ],
      "metadata": {
        "colab": {
          "base_uri": "https://localhost:8080/",
          "height": 495
        },
        "id": "THwGTlo1ESGI",
        "outputId": "360e2af7-22c0-495e-ca11-20c9156937a1"
      },
      "execution_count": 57,
      "outputs": [
        {
          "output_type": "execute_result",
          "data": {
            "text/plain": [
              "Text(0.5, 1.0, '2')"
            ]
          },
          "metadata": {},
          "execution_count": 57
        },
        {
          "output_type": "display_data",
          "data": {
            "text/plain": [
              "<Figure size 640x480 with 2 Axes>"
            ],
            "image/png": "[encoded data removed]"
          },
          "metadata": {}
        }
      ]
    },
    {
      "cell_type": "markdown",
      "source": [
        "The brightness of the star start to increase upto 3 then it decreses slowly till it reaches -2. It actually oscilating between 3 and -2.  \n",
        "\n",
        "By adjusting amplitude to 2.5 and frequency to 1 with a vertical shift of 0.5, it gives a plot with less error that reseanably fit to original plot."
      ],
      "metadata": {
        "id": "sj2S29dzM-xh"
      }
    },
    {
      "cell_type": "markdown",
      "metadata": {
        "id": "HLCrb6JT_08Q"
      },
      "source": [
        "***"
      ]
    },
    {
      "cell_type": "markdown",
      "metadata": {
        "id": "ii1yEbkQ_08Q"
      },
      "source": [
        " # Conditional Statements"
      ]
    },
    {
      "cell_type": "markdown",
      "metadata": {
        "id": "UokVVdjz_08R"
      },
      "source": [
        "## Question"
      ]
    },
    {
      "cell_type": "markdown",
      "metadata": {
        "id": "TXQVs7Ei_08R"
      },
      "source": [
        "You are driving too fast and a police officer stops you. Write a **function** to return one of 3 possible results: \"No ticket\", \"Small ticket\", or \"Big Ticket\". If your speed is 70mph or less, the result is \"No Ticket\". If speed is between 71 and 80mph inclusive, the result is \"Small Ticket\". If speed is 81mph or more, the result is \"Big Ticket\". Unless it is your birthday -- on your birthday, the police officer will let you go at 5mph higher in all cases.\n",
        "<br>\n",
        "\n",
        "Tip: For your birthday, use True and False statements.\n",
        "<br>\n",
        "\n",
        "Demonstrate your code works using print statements."
      ]
    },
    {
      "cell_type": "markdown",
      "metadata": {
        "id": "Lx1SagV2_08R"
      },
      "source": [
        "### Answer:"
      ]
    },
    {
      "cell_type": "markdown",
      "metadata": {
        "id": "eMKvEo6j_08R"
      },
      "source": [
        "*Your answer here:*\n",
        "\n"
      ]
    },
    {
      "cell_type": "code",
      "source": [
        "your_speed = 81\n",
        "is_birthday=input('is today your birthday?')\n",
        "if is_birthday:\n",
        "  your_speed-=5\n",
        "if (your_speed<= 70):\n",
        "  print('NO TICKET' )\n",
        "elif (71< your_speed<= 80):\n",
        "  print('SMALL TICKET')\n",
        "elif (your_speed>= 81):\n",
        "  print('BIG TICKET')\n",
        ""
      ],
      "metadata": {
        "colab": {
          "base_uri": "https://localhost:8080/",
          "height": 0
        },
        "id": "NiPd9GQSBiYG",
        "outputId": "95ac7ecf-634c-40d1-f0fd-eea8f46307f1"
      },
      "execution_count": 19,
      "outputs": [
        {
          "output_type": "stream",
          "name": "stdout",
          "text": [
            "is today your birthday?true\n",
            "SMALL TICKET\n"
          ]
        }
      ]
    }
  ],
  "metadata": {
    "kernelspec": {
      "display_name": "Python 3 (ipykernel)",
      "language": "python",
      "name": "python3"
    },
    "language_info": {
      "codemirror_mode": {
        "name": "ipython",
        "version": 3
      },
      "file_extension": ".py",
      "mimetype": "text/x-python",
      "name": "python",
      "nbconvert_exporter": "python",
      "pygments_lexer": "ipython3",
      "version": "3.9.13"
    },
    "colab": {
      "provenance": []
    }
  },
  "nbformat": 4,
  "nbformat_minor": 0
}